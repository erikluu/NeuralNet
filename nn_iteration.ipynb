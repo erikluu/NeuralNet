{
 "cells": [
  {
   "cell_type": "code",
   "execution_count": 166,
   "metadata": {},
   "outputs": [],
   "source": [
    "import pandas as pd\n",
    "import numpy as np\n",
    "from tqdm import trange\n",
    "import matplotlib.pyplot as plt\n",
    "import seaborn as sns"
   ]
  },
  {
   "cell_type": "markdown",
   "metadata": {},
   "source": [
    "# Load and Organize Data"
   ]
  },
  {
   "cell_type": "code",
   "execution_count": 107,
   "metadata": {},
   "outputs": [
    {
     "data": {
      "text/html": [
       "<div>\n",
       "<style scoped>\n",
       "    .dataframe tbody tr th:only-of-type {\n",
       "        vertical-align: middle;\n",
       "    }\n",
       "\n",
       "    .dataframe tbody tr th {\n",
       "        vertical-align: top;\n",
       "    }\n",
       "\n",
       "    .dataframe thead th {\n",
       "        text-align: right;\n",
       "    }\n",
       "</style>\n",
       "<table border=\"1\" class=\"dataframe\">\n",
       "  <thead>\n",
       "    <tr style=\"text-align: right;\">\n",
       "      <th></th>\n",
       "      <th>Strain</th>\n",
       "      <th>Type</th>\n",
       "      <th>Rating</th>\n",
       "      <th>Effects</th>\n",
       "      <th>Flavor</th>\n",
       "      <th>Creative</th>\n",
       "      <th>Energetic</th>\n",
       "      <th>Tingly</th>\n",
       "      <th>Euphoric</th>\n",
       "      <th>Relaxed</th>\n",
       "      <th>...</th>\n",
       "      <th>Ammonia</th>\n",
       "      <th>Minty</th>\n",
       "      <th>Tree</th>\n",
       "      <th>Fruit</th>\n",
       "      <th>Butter</th>\n",
       "      <th>Pineapple</th>\n",
       "      <th>Tar</th>\n",
       "      <th>Rose</th>\n",
       "      <th>Plum</th>\n",
       "      <th>Pear</th>\n",
       "    </tr>\n",
       "  </thead>\n",
       "  <tbody>\n",
       "    <tr>\n",
       "      <th>0</th>\n",
       "      <td>100-Og</td>\n",
       "      <td>hybrid</td>\n",
       "      <td>4.0</td>\n",
       "      <td>Creative,Energetic,Tingly,Euphoric,Relaxed</td>\n",
       "      <td>Earthy,Sweet,Citrus</td>\n",
       "      <td>1.0</td>\n",
       "      <td>1.0</td>\n",
       "      <td>1.0</td>\n",
       "      <td>1.0</td>\n",
       "      <td>1.0</td>\n",
       "      <td>...</td>\n",
       "      <td>0.0</td>\n",
       "      <td>0.0</td>\n",
       "      <td>0.0</td>\n",
       "      <td>0.0</td>\n",
       "      <td>0.0</td>\n",
       "      <td>0.0</td>\n",
       "      <td>0.0</td>\n",
       "      <td>0.0</td>\n",
       "      <td>0.0</td>\n",
       "      <td>0.0</td>\n",
       "    </tr>\n",
       "    <tr>\n",
       "      <th>1</th>\n",
       "      <td>98-White-Widow</td>\n",
       "      <td>hybrid</td>\n",
       "      <td>4.7</td>\n",
       "      <td>Relaxed,Aroused,Creative,Happy,Energetic</td>\n",
       "      <td>Flowery,Violet,Diesel</td>\n",
       "      <td>1.0</td>\n",
       "      <td>1.0</td>\n",
       "      <td>0.0</td>\n",
       "      <td>0.0</td>\n",
       "      <td>1.0</td>\n",
       "      <td>...</td>\n",
       "      <td>0.0</td>\n",
       "      <td>0.0</td>\n",
       "      <td>0.0</td>\n",
       "      <td>0.0</td>\n",
       "      <td>0.0</td>\n",
       "      <td>0.0</td>\n",
       "      <td>0.0</td>\n",
       "      <td>0.0</td>\n",
       "      <td>0.0</td>\n",
       "      <td>0.0</td>\n",
       "    </tr>\n",
       "    <tr>\n",
       "      <th>2</th>\n",
       "      <td>1024</td>\n",
       "      <td>sativa</td>\n",
       "      <td>4.4</td>\n",
       "      <td>Uplifted,Happy,Relaxed,Energetic,Creative</td>\n",
       "      <td>Spicy/Herbal,Sage,Woody</td>\n",
       "      <td>1.0</td>\n",
       "      <td>1.0</td>\n",
       "      <td>0.0</td>\n",
       "      <td>0.0</td>\n",
       "      <td>1.0</td>\n",
       "      <td>...</td>\n",
       "      <td>0.0</td>\n",
       "      <td>0.0</td>\n",
       "      <td>0.0</td>\n",
       "      <td>0.0</td>\n",
       "      <td>0.0</td>\n",
       "      <td>0.0</td>\n",
       "      <td>0.0</td>\n",
       "      <td>0.0</td>\n",
       "      <td>0.0</td>\n",
       "      <td>0.0</td>\n",
       "    </tr>\n",
       "    <tr>\n",
       "      <th>3</th>\n",
       "      <td>13-Dawgs</td>\n",
       "      <td>hybrid</td>\n",
       "      <td>4.2</td>\n",
       "      <td>Tingly,Creative,Hungry,Relaxed,Uplifted</td>\n",
       "      <td>Apricot,Citrus,Grapefruit</td>\n",
       "      <td>1.0</td>\n",
       "      <td>0.0</td>\n",
       "      <td>1.0</td>\n",
       "      <td>0.0</td>\n",
       "      <td>1.0</td>\n",
       "      <td>...</td>\n",
       "      <td>0.0</td>\n",
       "      <td>0.0</td>\n",
       "      <td>0.0</td>\n",
       "      <td>0.0</td>\n",
       "      <td>0.0</td>\n",
       "      <td>0.0</td>\n",
       "      <td>0.0</td>\n",
       "      <td>0.0</td>\n",
       "      <td>0.0</td>\n",
       "      <td>0.0</td>\n",
       "    </tr>\n",
       "    <tr>\n",
       "      <th>4</th>\n",
       "      <td>24K-Gold</td>\n",
       "      <td>hybrid</td>\n",
       "      <td>4.6</td>\n",
       "      <td>Happy,Relaxed,Euphoric,Uplifted,Talkative</td>\n",
       "      <td>Citrus,Earthy,Orange</td>\n",
       "      <td>0.0</td>\n",
       "      <td>0.0</td>\n",
       "      <td>0.0</td>\n",
       "      <td>1.0</td>\n",
       "      <td>1.0</td>\n",
       "      <td>...</td>\n",
       "      <td>0.0</td>\n",
       "      <td>0.0</td>\n",
       "      <td>0.0</td>\n",
       "      <td>0.0</td>\n",
       "      <td>0.0</td>\n",
       "      <td>0.0</td>\n",
       "      <td>0.0</td>\n",
       "      <td>0.0</td>\n",
       "      <td>0.0</td>\n",
       "      <td>0.0</td>\n",
       "    </tr>\n",
       "  </tbody>\n",
       "</table>\n",
       "<p>5 rows × 69 columns</p>\n",
       "</div>"
      ],
      "text/plain": [
       "           Strain    Type  Rating                                     Effects  \\\n",
       "0          100-Og  hybrid     4.0  Creative,Energetic,Tingly,Euphoric,Relaxed   \n",
       "1  98-White-Widow  hybrid     4.7    Relaxed,Aroused,Creative,Happy,Energetic   \n",
       "2            1024  sativa     4.4   Uplifted,Happy,Relaxed,Energetic,Creative   \n",
       "3        13-Dawgs  hybrid     4.2     Tingly,Creative,Hungry,Relaxed,Uplifted   \n",
       "4        24K-Gold  hybrid     4.6   Happy,Relaxed,Euphoric,Uplifted,Talkative   \n",
       "\n",
       "                      Flavor  Creative  Energetic  Tingly  Euphoric  Relaxed  \\\n",
       "0        Earthy,Sweet,Citrus       1.0        1.0     1.0       1.0      1.0   \n",
       "1      Flowery,Violet,Diesel       1.0        1.0     0.0       0.0      1.0   \n",
       "2    Spicy/Herbal,Sage,Woody       1.0        1.0     0.0       0.0      1.0   \n",
       "3  Apricot,Citrus,Grapefruit       1.0        0.0     1.0       0.0      1.0   \n",
       "4       Citrus,Earthy,Orange       0.0        0.0     0.0       1.0      1.0   \n",
       "\n",
       "   ...  Ammonia  Minty  Tree  Fruit  Butter  Pineapple  Tar  Rose  Plum  Pear  \n",
       "0  ...      0.0    0.0   0.0    0.0     0.0        0.0  0.0   0.0   0.0   0.0  \n",
       "1  ...      0.0    0.0   0.0    0.0     0.0        0.0  0.0   0.0   0.0   0.0  \n",
       "2  ...      0.0    0.0   0.0    0.0     0.0        0.0  0.0   0.0   0.0   0.0  \n",
       "3  ...      0.0    0.0   0.0    0.0     0.0        0.0  0.0   0.0   0.0   0.0  \n",
       "4  ...      0.0    0.0   0.0    0.0     0.0        0.0  0.0   0.0   0.0   0.0  \n",
       "\n",
       "[5 rows x 69 columns]"
      ]
     },
     "execution_count": 107,
     "metadata": {},
     "output_type": "execute_result"
    }
   ],
   "source": [
    "cannabis_df = pd.read_csv(\"cannabis_full.csv\")\n",
    "cannabis_df.head()"
   ]
  },
  {
   "cell_type": "code",
   "execution_count": 108,
   "metadata": {},
   "outputs": [],
   "source": [
    "def split_dataset(data, target_column, test_ratio):\n",
    "    np.random.seed(42)\n",
    "    num_test = int(len(data) * test_ratio)\n",
    "    \n",
    "    shuffled_indices = np.random.permutation(len(data))\n",
    "    test_indices = shuffled_indices[:num_test]\n",
    "    train_indices = shuffled_indices[num_test:]\n",
    "\n",
    "    train_df = data.iloc[train_indices]\n",
    "    test_df = data.iloc[test_indices]\n",
    "\n",
    "    X_train = train_df.drop(target_column, axis=1)\n",
    "    y_train = train_df[target_column]\n",
    "\n",
    "    X_test = test_df.drop(target_column, axis=1)\n",
    "    y_test = test_df[target_column]\n",
    "\n",
    "    return X_train, y_train, X_test, y_test"
   ]
  },
  {
   "cell_type": "code",
   "execution_count": 109,
   "metadata": {},
   "outputs": [],
   "source": [
    "c_df = cannabis_df.dropna()\n",
    "c_df = c_df[c_df[\"Type\"].isin([\"sativa\", \"indica\"])]\n",
    "c_df[\"Type_is_sativa\"] = np.where(c_df[\"Type\"] == \"sativa\", 1, 0)\n",
    "c_df = c_df.drop([\"Strain\", \"Effects\", \"Flavor\", \"Type\"], axis=1)\n",
    "\n",
    "X_train, y_train, X_test, y_test = split_dataset(c_df, target_column=\"Type_is_sativa\", test_ratio=0.2)\n",
    "X_train[\"intercept\"] = 1\n",
    "X_test[\"intercept\"] = 1"
   ]
  },
  {
   "cell_type": "code",
   "execution_count": 110,
   "metadata": {},
   "outputs": [
    {
     "data": {
      "text/plain": [
       "66"
      ]
     },
     "execution_count": 110,
     "metadata": {},
     "output_type": "execute_result"
    }
   ],
   "source": [
    "len(X_train.columns)"
   ]
  },
  {
   "cell_type": "markdown",
   "metadata": {},
   "source": [
    "# Implementation"
   ]
  },
  {
   "cell_type": "markdown",
   "metadata": {},
   "source": [
    "## NN Functions"
   ]
  },
  {
   "cell_type": "markdown",
   "metadata": {},
   "source": [
    "### Numpy Version"
   ]
  },
  {
   "cell_type": "code",
   "execution_count": 111,
   "metadata": {},
   "outputs": [],
   "source": [
    "def precision(y, yhat):\n",
    "    true_positives = np.sum((y == 1) & (yhat == 1))\n",
    "    predicted_positives = np.sum(yhat == 1)\n",
    "    return true_positives / predicted_positives\n",
    "\n",
    "def recall(y, yhat):\n",
    "    true_positives = np.sum((y == 1) & (yhat == 1))\n",
    "    actual_positives = np.sum(y == 1)\n",
    "    return true_positives / actual_positives\n",
    "\n",
    "def f1_score(precision, recall):\n",
    "    return 2 * precision * recall / (precision + recall)"
   ]
  },
  {
   "cell_type": "code",
   "execution_count": 112,
   "metadata": {},
   "outputs": [],
   "source": [
    "# Activation Functions\n",
    "\n",
    "def relu(x):\n",
    "    return np.maximum(0, x)\n",
    "\n",
    "def sigmoid(x):\n",
    "    return 1 / (1 + np.exp(-x))\n",
    "\n",
    "def softplus(x):\n",
    "    return np.logaddexp(x, 0) # -> np.log(1 + np.exp(x))"
   ]
  },
  {
   "cell_type": "code",
   "execution_count": 113,
   "metadata": {},
   "outputs": [],
   "source": [
    "# Loss Functions\n",
    "\n",
    "def squared_error(y, yhat):\n",
    "    n = len(y)\n",
    "    l = 1 / n * np.power(np.sum(yhat - y), 2)\n",
    "    return l\n",
    "\n",
    "def svc_hinge_loss(y, yhat):\n",
    "    n = len(y)\n",
    "    l = 1 / n * np.sum(np.where(y * yhat) > 1, y * yhat, 0)\n",
    "    return l"
   ]
  },
  {
   "cell_type": "code",
   "execution_count": 114,
   "metadata": {},
   "outputs": [],
   "source": [
    "# Gradient Functions\n",
    "\n",
    "def sigmoid_grad(z):\n",
    "    left = np.power(1 / (1 + np.exp(-z)), 2)\n",
    "    right = -np.exp(-z)\n",
    "    return left * right\n",
    "\n",
    "def relu_grad(u):\n",
    "    return np.where(u > 0, 1, 0)\n",
    "\n",
    "def softplus_grad(n):\n",
    "    clipped_n = np.clip(n, -500, 500)\n",
    "    num = np.exp(clipped_n)\n",
    "    den = np.exp(clipped_n) + 1\n",
    "    return num / den\n",
    "\n",
    "def squared_error_grad(y, yhat):\n",
    "    n = len(y)\n",
    "    dl = 2 / n * np.sum(yhat - y)\n",
    "    return dl\n",
    "\n",
    "def svc_hinge_grad(y, yhat):\n",
    "    n = len(y)\n",
    "    dl = 1 / n * np.sum(np.where(y * yhat > 1, yhat, 0))\n",
    "    return dl"
   ]
  },
  {
   "cell_type": "code",
   "execution_count": 115,
   "metadata": {},
   "outputs": [],
   "source": [
    "relu_funcs = {'activation_f': relu, 'gradient_f': relu_grad}\n",
    "sigmoid_funcs = {'activation_f': sigmoid, 'gradient_f': sigmoid_grad}\n",
    "softplus_funcs = {'activation_f': softplus, 'gradient_f': softplus_grad}\n",
    "\n",
    "squared_error_funcs = {'loss_f': squared_error, 'gradient_f': squared_error_grad}\n",
    "svc_hinge_funcs = {'loss_f': svc_hinge_loss, 'gradient_f': svc_hinge_grad}"
   ]
  },
  {
   "cell_type": "code",
   "execution_count": 116,
   "metadata": {},
   "outputs": [],
   "source": [
    "def forward_pass(X, W, V, activation_f):\n",
    "    Z = X.dot(W)\n",
    "    Q = activation_f(Z)\n",
    "    n = Q.dot(V)\n",
    "    p = sigmoid(n)\n",
    "    \n",
    "    return Z, Q, n, p\n",
    "\n",
    "\n",
    "def backpropogation(v, eta, activation_gradient_f, loss_gradient_f):\n",
    "    dl = loss_gradient_f(v['y'], v['p']) # scalar\n",
    "    dp = activation_gradient_f(v['n']) # nx1\n",
    "    dn = v['Q'] # nx3\n",
    "    V_grad = (dl * dp).dot(dn) # 3x1\n",
    "\n",
    "    dv = sigmoid_grad(v['Z']) # nx3\n",
    "    dz = v['X'] # nxp\n",
    "\n",
    "    W_grad = ((v['V'] * dv).T @ dz).T # px3\n",
    "\n",
    "    assert v['W'].shape == W_grad.shape\n",
    "    assert v['V'].shape == V_grad.shape\n",
    "\n",
    "    V = v['V'] - (V_grad * eta)\n",
    "    W = v['W'] - (W_grad * eta)\n",
    "\n",
    "    return W, V\n",
    "\n",
    "\n",
    "# https://numpy.org/doc/stable/reference/generated/numpy.allclose.html\n",
    "# atol - absolute tolerance (additive)\n",
    "# rtol - relative tolerance (multiplicative)\n",
    "def stopping_condition(W, W_new, V, V_new):\n",
    "    return np.allclose(W, W_new, atol=1e-08, rtol=1e-05) and np.allclose(V, V_new, atol=1e-08, rtol=1e-05)\n",
    "\n",
    "\n",
    "def fit(X, y, eta, activation_funcs, loss_funcs, max_iter=1e5):\n",
    "    W = np.random.random((X.shape[1], 3))\n",
    "    V = np.random.random(3)\n",
    "    for i in trange(int(max_iter)):\n",
    "        Z, Q, n, p = forward_pass(X, W, V, activation_funcs['activation_f'])\n",
    "\n",
    "        values = {'W': W, 'V': V, 'Z': Z, 'Q': Q, 'n': n, 'p': p, 'X': X, 'y': y}\n",
    "\n",
    "        W_new, V_new = backpropogation(values, eta, activation_funcs['gradient_f'], loss_funcs['gradient_f'])\n",
    "\n",
    "        if stopping_condition(W, W_new, V, V_new):\n",
    "            print(\"stopping\")\n",
    "            return W_new, V_new\n",
    "        \n",
    "        W = W_new\n",
    "        V = V_new\n",
    "\n",
    "    return W, V"
   ]
  },
  {
   "cell_type": "markdown",
   "metadata": {},
   "source": [
    "### Torch Version"
   ]
  },
  {
   "cell_type": "code",
   "execution_count": 117,
   "metadata": {},
   "outputs": [],
   "source": [
    "# # Activation Functions\n",
    "\n",
    "# def relu(x):\n",
    "#     return torch.maximum(0, x)\n",
    "\n",
    "# def sigmoid(x):\n",
    "#     return 1 / (1 + torch.exp(-x))\n",
    "\n",
    "# def softplus(x):\n",
    "#     return torch.log(1 + torch.exp(x))"
   ]
  },
  {
   "cell_type": "code",
   "execution_count": 118,
   "metadata": {},
   "outputs": [],
   "source": [
    "# # Loss Functions\n",
    "\n",
    "# def squared_error(y, yhat):\n",
    "#     n = len(y)\n",
    "#     l = 1 / n * torch.pow(torch.sum(yhat - y), 2)\n",
    "#     return l"
   ]
  },
  {
   "cell_type": "code",
   "execution_count": 119,
   "metadata": {},
   "outputs": [],
   "source": [
    "# # Gradient Functions\n",
    "\n",
    "# def squared_error_grad(y, yhat):\n",
    "#     n = len(y)\n",
    "#     dl = 2 / n * torch.sum(yhat - y)\n",
    "#     return dl\n",
    "\n",
    "# def sigmoid_grad(z):\n",
    "#     left = torch.pow(1 / (1 + torch.exp(-z)), 2)\n",
    "#     right = -torch.exp(-z)\n",
    "#     return left * right\n",
    "\n",
    "# def softplus_grad(n):\n",
    "#     num = torch.exp(n)\n",
    "#     den = torch.exp(n) + 1\n",
    "#     return num / den"
   ]
  },
  {
   "cell_type": "code",
   "execution_count": 120,
   "metadata": {},
   "outputs": [],
   "source": [
    "# def forward_pass(X, W, V, activation_f):\n",
    "#     Z = torch.matmul(X, W)\n",
    "#     Q = activation_f(Z)\n",
    "#     n = torch.matmul(Q, V)\n",
    "#     p = activation_f(n)\n",
    "    \n",
    "#     return Z, Q, n, p\n",
    "\n",
    "\n",
    "# def backpropogation(v, eta, activation_gradient_f, loss_gradient_f):\n",
    "#     dl = loss_gradient_f(v['y'], v['p'])\n",
    "#     dp = activation_gradient_f(v['n'])\n",
    "#     dn = v['Q']\n",
    "#     V_i = (dl * dp).matmul(dn)\n",
    "\n",
    "#     dv = activation_gradient_f(v['Z'])\n",
    "#     dz = v['X']\n",
    "#     W_i =  (V_i * dv).t().matmul(dz).t()\n",
    "\n",
    "#     assert v['W'].shape == W_i.shape\n",
    "#     assert v['V'].shape == V_i.shape\n",
    "\n",
    "#     V = v['V'] + (V_i * eta)\n",
    "#     W = v['W'] + (W_i * eta)\n",
    "\n",
    "#     return W, V\n",
    "\n",
    "\n",
    "# # https://numpy.org/doc/stable/reference/generated/numpy.allclose.html\n",
    "# # atol - absolute tolerance (additive)\n",
    "# # rtol - relative tolerance (multiplicative)\n",
    "# # atol more important than rtol here since values are small?\n",
    "# def stopping_condition(W, W_new, V, V_new):\n",
    "#     return torch.allclose(W, W_new, atol=1, rtol=1) and torch.allclose(V, V_new, atol=1, rtol=1)\n",
    "\n",
    "\n",
    "# def fit(X, y, eta, activation_funcs, loss_funcs, max_iter=1e6):\n",
    "#     device = torch.device(\"mps\" if torch.backends.mps.is_available() else \"cpu\")\n",
    "#     X = torch.tensor(X, dtype=torch.float32).to(device)\n",
    "#     y = torch.tensor(y, dtype=torch.float32).to(device)\n",
    "#     W = torch.rand((X.shape[1], 3), device=device)\n",
    "#     V = torch.rand(3, device=device)\n",
    "#     for _ in trange(int(max_iter)):\n",
    "#         Z, Q, n, p = forward_pass(X, W, V, activation_funcs['activation_f'])\n",
    "\n",
    "#         values = {'W': W, 'V': V, 'Z': Z, 'Q': Q, 'n': n, 'p': p, 'X': X, 'y': y}\n",
    "\n",
    "#         W_new, V_new = backpropogation(values, eta, activation_funcs['gradient_f'], loss_funcs['gradient_f'])\n",
    "\n",
    "#         while not stopping_condition(W, W_new, V, V_new):\n",
    "#             print(\"stopping\")\n",
    "#             return W_new, V_new\n",
    "        \n",
    "#         W = W_new\n",
    "#         V = V_new\n",
    "\n",
    "#     return W, V\n",
    "\n",
    "# sigmoid_funcs = {'activation_f': sigmoid, 'gradient_f': sigmoid_grad}\n",
    "# squared_error_funcs = {'loss_f': squared_error, 'gradient_f': squared_error_grad}\n",
    "# W, V = fit(X_train.values, y_train.values, eta=0.001, activation_funcs=sigmoid_funcs, loss_funcs=squared_error_funcs, max_iter=5e6)\n"
   ]
  },
  {
   "cell_type": "markdown",
   "metadata": {},
   "source": [
    "## NN with Softplus Activation and Squared-Error Loss"
   ]
  },
  {
   "cell_type": "code",
   "execution_count": 121,
   "metadata": {},
   "outputs": [
    {
     "name": "stderr",
     "output_type": "stream",
     "text": [
      " 37%|███▋      | 37423/100000 [00:10<00:17, 3490.70it/s]"
     ]
    },
    {
     "name": "stdout",
     "output_type": "stream",
     "text": [
      "stopping\n"
     ]
    },
    {
     "name": "stderr",
     "output_type": "stream",
     "text": [
      "\n"
     ]
    }
   ],
   "source": [
    "softplus_W, softplus_V = fit(X_train.values, y_train.values, eta=1e-7, activation_funcs=softplus_funcs, loss_funcs=squared_error_funcs, max_iter=1e6)"
   ]
  },
  {
   "cell_type": "code",
   "execution_count": 122,
   "metadata": {},
   "outputs": [
    {
     "name": "stdout",
     "output_type": "stream",
     "text": [
      "Precision: 0.6\n",
      "Recall: 0.030927835051546393\n",
      "F1: 0.058823529411764705\n",
      "p-max: 0.5171058783968898\n",
      "p-min: 0.5104945038856353\n"
     ]
    }
   ],
   "source": [
    "_, _, _, p = forward_pass(X_test.values, softplus_W, softplus_V, sigmoid)\n",
    "p_normalized = (p - p.min()) / (p.max() - p.min())\n",
    "predictions = np.where(p_normalized > 0.5, 1, 0)\n",
    "\n",
    "softplus_pr = precision(y_test.values, predictions)\n",
    "softplus_re = recall(y_test.values, predictions)\n",
    "softplus_f1 = f1_score(softplus_pr, softplus_re)\n",
    "print(f\"Precision: {softplus_pr}\\nRecall: {softplus_re}\\nF1: {softplus_f1}\\np-max: {p.max()}\\np-min: {p.min()}\")"
   ]
  },
  {
   "cell_type": "markdown",
   "metadata": {},
   "source": [
    "## NN with ReLU Activation and Squared-Error Loss"
   ]
  },
  {
   "cell_type": "code",
   "execution_count": 123,
   "metadata": {},
   "outputs": [
    {
     "name": "stderr",
     "output_type": "stream",
     "text": [
      "100%|██████████| 100000/100000 [00:23<00:00, 4177.13it/s]\n"
     ]
    }
   ],
   "source": [
    "relu_W, relu_V = fit(X_train.values, y_train.values, eta=1e-5, activation_funcs=relu_funcs, loss_funcs=squared_error_funcs, max_iter=1e6)"
   ]
  },
  {
   "cell_type": "code",
   "execution_count": 124,
   "metadata": {},
   "outputs": [
    {
     "name": "stdout",
     "output_type": "stream",
     "text": [
      "Precision: 0.4523809523809524\n",
      "Recall: 0.979381443298969\n",
      "F1: 0.6188925081433224\n",
      "p-max: 0.49653903580103925\n",
      "p-min: 0.3894114996487779\n"
     ]
    }
   ],
   "source": [
    "_, _, _, p = forward_pass(X_test.values, relu_W, relu_V, sigmoid)\n",
    "p_normalized = (p - p.min()) / (p.max() - p.min())\n",
    "predictions = np.where(p_normalized > 0.5, 1, 0)\n",
    "\n",
    "relu_pr = precision(y_test.values, predictions)\n",
    "relu_re = recall(y_test.values, predictions)\n",
    "relu_f1 = f1_score(relu_pr, relu_re)\n",
    "print(f\"Precision: {relu_pr}\\nRecall: {relu_re}\\nF1: {relu_f1}\\np-max: {p.max()}\\np-min: {p.min()}\")"
   ]
  },
  {
   "cell_type": "markdown",
   "metadata": {},
   "source": [
    "## NN with SVC Loss"
   ]
  },
  {
   "cell_type": "code",
   "execution_count": 125,
   "metadata": {},
   "outputs": [
    {
     "name": "stderr",
     "output_type": "stream",
     "text": [
      "  4%|▎         | 35321/1000000 [00:08<04:00, 4012.72it/s]"
     ]
    },
    {
     "name": "stdout",
     "output_type": "stream",
     "text": [
      "stopping\n"
     ]
    },
    {
     "name": "stderr",
     "output_type": "stream",
     "text": [
      "\n"
     ]
    }
   ],
   "source": [
    "y_train = pd.Series(np.where(y_train == 0, -1, y_train)) # cuz svc\n",
    "svc_W, svc_V = fit(X_train.values, y_train.values, eta=1e-6, activation_funcs=relu_funcs, loss_funcs=svc_hinge_funcs, max_iter=1e6)"
   ]
  },
  {
   "cell_type": "code",
   "execution_count": 126,
   "metadata": {},
   "outputs": [
    {
     "name": "stdout",
     "output_type": "stream",
     "text": [
      "Precision: 0.4528301886792453\n",
      "Recall: 0.9896907216494846\n",
      "F1: 0.6213592233009709\n",
      "p-max: 0.8230753814971884\n",
      "p-min: 0.7967938725493996\n"
     ]
    }
   ],
   "source": [
    "_, _, _, p = forward_pass(X_test.values, svc_W, svc_V, sigmoid)\n",
    "p_normalized = (p - p.min()) / (p.max() - p.min())\n",
    "predictions = np.where(p_normalized > 0.5, 1, 0)\n",
    "\n",
    "svc_pr = precision(y_test.values, predictions)\n",
    "svc_re = recall(y_test.values, predictions)\n",
    "svc_f1 = f1_score(svc_pr, svc_re)\n",
    "print(f\"Precision: {svc_pr}\\nRecall: {svc_re}\\nF1: {svc_f1}\\np-max: {p.max()}\\np-min: {p.min()}\")"
   ]
  },
  {
   "cell_type": "markdown",
   "metadata": {},
   "source": [
    "## Visual of Metrics"
   ]
  },
  {
   "cell_type": "code",
   "execution_count": 162,
   "metadata": {},
   "outputs": [
    {
     "data": {
      "image/png": "[encoded data removed]",
      "text/plain": [
       "<Figure size 800x400 with 1 Axes>"
      ]
     },
     "metadata": {},
     "output_type": "display_data"
    }
   ],
   "source": [
    "import matplotlib.patches as mpatches\n",
    "\n",
    "precisions = [softplus_pr, relu_pr, svc_pr]\n",
    "recalls = [softplus_re, relu_re, svc_re]\n",
    "f1_scores = [softplus_f1, relu_f1, svc_f1]\n",
    "labels = ['Softplus', 'ReLU', 'SVC']\n",
    "colors = ['hotpink', 'blue', 'orange']\n",
    "\n",
    "fig, ax = plt.subplots(figsize=(8, 4))\n",
    "\n",
    "ax.scatter(precisions, [0]*len(precisions), color=colors, label='Precision')\n",
    "ax.scatter(recalls, [1]*len(recalls), color=colors, label='Recall')\n",
    "ax.scatter(f1_scores, [2]*len(f1_scores), color=colors, label='F1 Score')\n",
    "\n",
    "ax.plot(precisions, [0]*len(precisions), color='gray', linestyle=':')\n",
    "ax.plot(recalls, [1]*len(recalls), color='gray', linestyle='--')\n",
    "ax.plot(f1_scores, [2]*len(f1_scores), color='gray', linestyle='-')\n",
    "\n",
    "ax.set_yticks([0, 1, 2])\n",
    "ax.set_yticklabels(['Precision', 'Recall', 'F1 Score'])\n",
    "\n",
    "for i, label in enumerate(labels):\n",
    "    if label == 'SVC':\n",
    "        ax.annotate(label, (precisions[i], 0), textcoords=\"offset points\", xytext=(0,15), ha='center', va='bottom')\n",
    "        ax.annotate(label, (recalls[i], 1), textcoords=\"offset points\", xytext=(0,15), ha='center', va='bottom')\n",
    "        ax.annotate(label, (f1_scores[i], 2), textcoords=\"offset points\", xytext=(0,15), ha='center', va='bottom')\n",
    "    else:\n",
    "        ax.annotate(label, (precisions[i], 0), textcoords=\"offset points\", xytext=(0,15), ha='center', va='top')\n",
    "        ax.annotate(label, (recalls[i], 1), textcoords=\"offset points\", xytext=(0,15), ha='center', va='top')\n",
    "        ax.annotate(label, (f1_scores[i], 2), textcoords=\"offset points\", xytext=(0,15), ha='center', va='top')\n",
    "\n",
    "ax.spines['top'].set_visible(False)\n",
    "ax.spines['right'].set_visible(False)\n",
    "ax.spines['left'].set_visible(False)\n",
    "ax.spines['bottom'].set_visible(False)\n",
    "ax.tick_params(axis='x', which='both', bottom=False)\n",
    "\n",
    "legend_patches = [mpatches.Patch(color=color, label=label) for color, label in zip(colors, labels)]\n",
    "ax.legend(handles=legend_patches)\n",
    "\n",
    "plt.tight_layout()\n",
    "plt.show()"
   ]
  },
  {
   "cell_type": "markdown",
   "metadata": {},
   "source": [
    "# Investigate the fitted weights in the first layer of NN with SVC Loss"
   ]
  },
  {
   "cell_type": "code",
   "execution_count": 170,
   "metadata": {},
   "outputs": [
    {
     "data": {
      "text/html": [
       "<div>\n",
       "<style scoped>\n",
       "    .dataframe tbody tr th:only-of-type {\n",
       "        vertical-align: middle;\n",
       "    }\n",
       "\n",
       "    .dataframe tbody tr th {\n",
       "        vertical-align: top;\n",
       "    }\n",
       "\n",
       "    .dataframe thead th {\n",
       "        text-align: right;\n",
       "    }\n",
       "</style>\n",
       "<table border=\"1\" class=\"dataframe\">\n",
       "  <thead>\n",
       "    <tr style=\"text-align: right;\">\n",
       "      <th></th>\n",
       "      <th>z1</th>\n",
       "      <th>z2</th>\n",
       "      <th>z3</th>\n",
       "    </tr>\n",
       "  </thead>\n",
       "  <tbody>\n",
       "    <tr>\n",
       "      <th>0</th>\n",
       "      <td>6.606465</td>\n",
       "      <td>-10.932213</td>\n",
       "      <td>7.112206</td>\n",
       "    </tr>\n",
       "    <tr>\n",
       "      <th>1</th>\n",
       "      <td>7.186146</td>\n",
       "      <td>-8.766397</td>\n",
       "      <td>8.003881</td>\n",
       "    </tr>\n",
       "    <tr>\n",
       "      <th>2</th>\n",
       "      <td>6.620414</td>\n",
       "      <td>-8.801445</td>\n",
       "      <td>7.683436</td>\n",
       "    </tr>\n",
       "    <tr>\n",
       "      <th>3</th>\n",
       "      <td>9.585954</td>\n",
       "      <td>-10.488411</td>\n",
       "      <td>10.161895</td>\n",
       "    </tr>\n",
       "    <tr>\n",
       "      <th>4</th>\n",
       "      <td>7.376667</td>\n",
       "      <td>-9.499037</td>\n",
       "      <td>7.858357</td>\n",
       "    </tr>\n",
       "    <tr>\n",
       "      <th>...</th>\n",
       "      <td>...</td>\n",
       "      <td>...</td>\n",
       "      <td>...</td>\n",
       "    </tr>\n",
       "    <tr>\n",
       "      <th>208</th>\n",
       "      <td>7.628317</td>\n",
       "      <td>-8.957332</td>\n",
       "      <td>7.276523</td>\n",
       "    </tr>\n",
       "    <tr>\n",
       "      <th>209</th>\n",
       "      <td>2.213975</td>\n",
       "      <td>0.745403</td>\n",
       "      <td>2.694405</td>\n",
       "    </tr>\n",
       "    <tr>\n",
       "      <th>210</th>\n",
       "      <td>8.464500</td>\n",
       "      <td>-9.902961</td>\n",
       "      <td>8.024564</td>\n",
       "    </tr>\n",
       "    <tr>\n",
       "      <th>211</th>\n",
       "      <td>6.920501</td>\n",
       "      <td>-9.146019</td>\n",
       "      <td>7.620380</td>\n",
       "    </tr>\n",
       "    <tr>\n",
       "      <th>212</th>\n",
       "      <td>7.887270</td>\n",
       "      <td>-10.499834</td>\n",
       "      <td>8.068604</td>\n",
       "    </tr>\n",
       "  </tbody>\n",
       "</table>\n",
       "<p>213 rows × 3 columns</p>\n",
       "</div>"
      ],
      "text/plain": [
       "           z1         z2         z3\n",
       "0    6.606465 -10.932213   7.112206\n",
       "1    7.186146  -8.766397   8.003881\n",
       "2    6.620414  -8.801445   7.683436\n",
       "3    9.585954 -10.488411  10.161895\n",
       "4    7.376667  -9.499037   7.858357\n",
       "..        ...        ...        ...\n",
       "208  7.628317  -8.957332   7.276523\n",
       "209  2.213975   0.745403   2.694405\n",
       "210  8.464500  -9.902961   8.024564\n",
       "211  6.920501  -9.146019   7.620380\n",
       "212  7.887270 -10.499834   8.068604\n",
       "\n",
       "[213 rows x 3 columns]"
      ]
     },
     "execution_count": 170,
     "metadata": {},
     "output_type": "execute_result"
    }
   ],
   "source": [
    "Z = X_test.values.dot(relu_W)\n",
    "z_df = pd.DataFrame(Z, columns=['z1', 'z2', 'z3'])\n",
    "z_df"
   ]
  },
  {
   "cell_type": "code",
   "execution_count": 174,
   "metadata": {},
   "outputs": [
    {
     "data": {
      "image/png": "[encoded data removed]",
      "text/plain": [
       "<Figure size 1200x400 with 3 Axes>"
      ]
     },
     "metadata": {},
     "output_type": "display_data"
    }
   ],
   "source": [
    "fig, axs = plt.subplots(1, 3, figsize=(12, 4))\n",
    "\n",
    "sns.scatterplot(x=z_df['z1'], y=c_df['Rating'], hue=c_df['Type_is_sativa'], ax=axs[0])\n",
    "axs[0].set_xlabel('z1')\n",
    "axs[0].set_ylabel('Rating')\n",
    "\n",
    "sns.scatterplot(x=z_df['z2'], y=c_df['Rating'], hue=c_df['Type_is_sativa'], ax=axs[1])\n",
    "axs[1].set_xlabel('z2')\n",
    "axs[1].set_ylabel('Rating')\n",
    "\n",
    "sns.scatterplot(x=z_df['z3'], y=c_df['Rating'], hue=c_df['Type_is_sativa'], ax=axs[2])\n",
    "axs[2].set_xlabel('z3')\n",
    "axs[2].set_ylabel('Rating')\n",
    "\n",
    "plt.tight_layout()\n",
    "plt.show()\n"
   ]
  },
  {
   "cell_type": "code",
   "execution_count": null,
   "metadata": {},
   "outputs": [],
   "source": []
  }
 ],
 "metadata": {
  "kernelspec": {
   "display_name": "data403",
   "language": "python",
   "name": "python3"
  },
  "language_info": {
   "codemirror_mode": {
    "name": "ipython",
    "version": 3
   },
   "file_extension": ".py",
   "mimetype": "text/x-python",
   "name": "python",
   "nbconvert_exporter": "python",
   "pygments_lexer": "ipython3",
   "version": "3.11.5"
  }
 },
 "nbformat": 4,
 "nbformat_minor": 2
}
